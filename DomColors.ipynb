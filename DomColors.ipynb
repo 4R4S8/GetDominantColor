{
 "cells": [
  {
   "cell_type": "code",
   "execution_count": 1,
   "metadata": {},
   "outputs": [],
   "source": [
    "import cv2\n",
    "import numpy as np\n",
    "import os\n",
    "from pathlib import Path\n",
    "from os.path import isfile, join\n",
    "import winsound\n"
   ]
  },
  {
   "cell_type": "code",
   "execution_count": 2,
   "metadata": {},
   "outputs": [],
   "source": [
    "def get_dominant_color(frame):\n",
    "  \"\"\"\n",
    "  This function takes a frame (image) and returns the dominant color (B, G, R)\n",
    "  \"\"\"\n",
    "  # Convert frame to HSV color space\n",
    "  hsv = cv2.cvtColor(frame, cv2.COLOR_BGR2HSV)\n",
    "\n",
    "  # Reduce noise by blurring\n",
    "  blurred = cv2.GaussianBlur(hsv, (9, 9), 0)\n",
    "\n",
    "  # Reshape to single dimension\n",
    "  pixels = np.float32(blurred.reshape((-1, 10)))\n",
    "\n",
    "  # Perform K-Means clustering with 1 cluster (dominant color)\n",
    "  criteria = (cv2.TERM_CRITERIA_EPS + cv2.TERM_CRITERIA_MAX_ITER, 10, 1.0)\n",
    "  ret, labels, (center) = cv2.kmeans(pixels, 1, None, criteria, 10, cv2.KMEANS_RANDOM_CENTERS)\n",
    "\n",
    "  # Extract dominant color values\n",
    "  dominant_color = center[0].astype(np.uint8)\n",
    "\n",
    "  return dominant_color\n"
   ]
  },
  {
   "cell_type": "code",
   "execution_count": 3,
   "metadata": {},
   "outputs": [],
   "source": [
    "def process_video(video_path):\n",
    "  \"\"\"\n",
    "  This function processes a video, gets dominant color of each scene, and combines them\n",
    "  \"\"\"\n",
    "  cap = cv2.VideoCapture(video_path)\n",
    "\n",
    "  # List to store dominant colors\n",
    "  dominant_colors = []\n",
    "\n",
    "  # Previous frame for scene detection\n",
    "  prev_frame = None\n",
    "  frame_count =0\n",
    "  while True:\n",
    "    frame_count = frame_count+1\n",
    "    if(frame_count%10 == 0):\n",
    "      ret, frame = cap.read()\n",
    "  \n",
    "      if not ret:\n",
    "        break\n",
    "      \n",
    "      # Convert frame to grayscale for scene detection\n",
    "      gray = cv2.cvtColor(frame, cv2.COLOR_BGR2GRAY)\n",
    "  \n",
    "      # Scene detection (basic example using frame difference)\n",
    "      if prev_frame is not None:\n",
    "        diff = cv2.absdiff(prev_frame, gray)\n",
    "        thresh = cv2.threshold(diff, 30, 255, cv2.THRESH_BINARY)[1]\n",
    "        if cv2.countNonZero(thresh) > 0.1 * thresh.shape[0] * thresh.shape[1]:\n",
    "          # New scene detected, get dominant color\n",
    "          dominant_color = get_dominant_color(frame.copy())\n",
    "          dominant_colors.append(dominant_color)\n",
    "  \n",
    "      prev_frame = gray.copy()\n",
    "\n",
    "  cap.release()\n",
    "\n",
    "  # Create a new image to combine dominant colors\n",
    "  combined_image = np.zeros((len(dominant_colors), 50, 10), dtype=\"uint8\")\n",
    "\n",
    "  # Fill the combined image with dominant colors\n",
    "  for i, color in enumerate(dominant_colors):\n",
    "    combined_image[i] = color\n",
    "\n",
    "  return combined_image\n"
   ]
  },
  {
   "cell_type": "code",
   "execution_count": null,
   "metadata": {},
   "outputs": [],
   "source": [
    "if __name__ == \"__main__\":\n",
    "    directory_path = \"F:\\\\Video\\\\سریال\\\\Death note\\\\\"\n",
    "    file_list = os.listdir(directory_path)\n",
    "    only_files = [f for f in file_list if isfile(join(directory_path, f))]\n",
    "    full_paths = [os.path.join(directory_path, f) for f in only_files]\n",
    "    frequency = 2500  # Set Frequency To 2500 Hertz\n",
    "    duration = 1000  # Set Duration To 1000 ms == 1 second\n",
    "    for file in full_paths:\n",
    "        winsound.Beep(frequency, duration)\n",
    "        video_path = file  # Replace with your video path\n",
    "        output_path= \"C:\\\\Users\\\\4R4S8\\\\Desktop\\\\PYTHON\\Movie Related\\\\Dom Color\\\\DeathNote\\\\%s.jpg\"%(Path(video_path).stem)\n",
    "        print(output_path)\n",
    "        print(video_path)\n",
    "        combined_image = process_video(video_path)\n",
    "\n",
    "        # Display the combined image (optional)\n",
    "        # cv2.imshow(\"Dominant Colors\", combined_image)\n",
    "        # cv2.waitKey(0)\n",
    "        # cv2.destroyAllWindows()\n",
    "\n",
    "        # Save the combined image (optional)\n",
    "        cv2.imwrite(output_path,combined_image)\n",
    "        winsound.Beep(frequency, duration)\n",
    "frequency = 4000  # Set Frequency To 2500 Hertz\n",
    "duration = 5000  # Set Duration To 1000 ms == 1 second\n",
    "winsound.Beep(frequency, duration)\n"
   ]
  },
  {
   "cell_type": "code",
   "execution_count": 5,
   "metadata": {},
   "outputs": [
    {
     "ename": "ValueError",
     "evalue": "could not broadcast input array from shape (3,) into shape (50,10)",
     "output_type": "error",
     "traceback": [
      "\u001b[1;31m---------------------------------------------------------------------------\u001b[0m",
      "\u001b[1;31mValueError\u001b[0m                                Traceback (most recent call last)",
      "Cell \u001b[1;32mIn[5], line 2\u001b[0m\n\u001b[0;32m      1\u001b[0m vid_path \u001b[38;5;241m=\u001b[39m \u001b[38;5;124mr\u001b[39m\u001b[38;5;124m\"\u001b[39m\u001b[38;5;124mF:\u001b[39m\u001b[38;5;124m\\\u001b[39m\u001b[38;5;124mVideo\u001b[39m\u001b[38;5;124m\\\u001b[39m\u001b[38;5;124mسریال\u001b[39m\u001b[38;5;124m\\\u001b[39m\u001b[38;5;124mTokyo Ghoul\u001b[39m\u001b[38;5;124m\\\u001b[39m\u001b[38;5;124mSeasone 1\u001b[39m\u001b[38;5;124m\\\u001b[39m\u001b[38;5;124mTokyo.Ghoul.S01E01.720p.Farsi.Dubbed.DigiMoviez.mkv\u001b[39m\u001b[38;5;124m\"\u001b[39m\n\u001b[1;32m----> 2\u001b[0m combined_image \u001b[38;5;241m=\u001b[39m \u001b[43mprocess_video\u001b[49m\u001b[43m(\u001b[49m\u001b[43mvid_path\u001b[49m\u001b[43m)\u001b[49m\n\u001b[0;32m      3\u001b[0m out_path \u001b[38;5;241m=\u001b[39m \u001b[38;5;124m\"\u001b[39m\u001b[38;5;124mE:\u001b[39m\u001b[38;5;130;01m\\\\\u001b[39;00m\u001b[38;5;124m\"\u001b[39m\n\u001b[0;32m      4\u001b[0m cv2\u001b[38;5;241m.\u001b[39mimwrite(out_path,combined_image)\n",
      "Cell \u001b[1;32mIn[3], line 42\u001b[0m, in \u001b[0;36mprocess_video\u001b[1;34m(video_path)\u001b[0m\n\u001b[0;32m     40\u001b[0m \u001b[38;5;66;03m# Fill the combined image with dominant colors\u001b[39;00m\n\u001b[0;32m     41\u001b[0m \u001b[38;5;28;01mfor\u001b[39;00m i, color \u001b[38;5;129;01min\u001b[39;00m \u001b[38;5;28menumerate\u001b[39m(dominant_colors):\n\u001b[1;32m---> 42\u001b[0m   \u001b[43mcombined_image\u001b[49m\u001b[43m[\u001b[49m\u001b[43mi\u001b[49m\u001b[43m]\u001b[49m \u001b[38;5;241m=\u001b[39m color\n\u001b[0;32m     44\u001b[0m \u001b[38;5;28;01mreturn\u001b[39;00m combined_image\n",
      "\u001b[1;31mValueError\u001b[0m: could not broadcast input array from shape (3,) into shape (50,10)"
     ]
    }
   ],
   "source": [
    "vid_path = r\"F:\\Video\\سریال\\Tokyo Ghoul\\Seasone 1\\Tokyo.Ghoul.S01E01.720p.Farsi.Dubbed.DigiMoviez.mkv\"\n",
    "combined_image = process_video(vid_path)\n",
    "out_path = \"E:\\\\\"\n",
    "cv2.imwrite(out_path,combined_image)\n",
    "frequency = 4000  # Set Frequency To 2500 Hertz\n",
    "duration = 5000  # Set Duration To 1000 ms == 1 second\n",
    "winsound.Beep(frequency, duration)\n",
    "print('DONE')"
   ]
  }
 ],
 "metadata": {
  "kernelspec": {
   "display_name": "Python 3",
   "language": "python",
   "name": "python3"
  },
  "language_info": {
   "codemirror_mode": {
    "name": "ipython",
    "version": 3
   },
   "file_extension": ".py",
   "mimetype": "text/x-python",
   "name": "python",
   "nbconvert_exporter": "python",
   "pygments_lexer": "ipython3",
   "version": "3.12.3"
  }
 },
 "nbformat": 4,
 "nbformat_minor": 2
}
